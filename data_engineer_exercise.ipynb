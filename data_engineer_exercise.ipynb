{
 "cells": [
  {
   "cell_type": "markdown",
   "metadata": {},
   "source": [
    "# Evaluation criteria\n",
    "\n",
    "The goal of this assignment is to get a view on your hands-on \"data engineering\" skills.  \n",
    "The assignment below measures your proficiency in general programming and engineering tasks using python.\n",
    "\n",
    "It is not important that you get the final answer(s) correct in the end, but you should be able to explain your code and what choices and assumptions you made.\n",
    "\n",
    "Set aside approximately 1 hour to complete this exercise.\n",
    "\n",
    "**In this exercise we expect you to demonstrate your ability to / knowledge of:**\n",
    " * Efficiently getting the job done\n",
    " * Understanding the dataset and assumptions\n",
    " * Choose meaningful names for variables & functions\n",
    " * Writing maintainable code (for this exercise, there should be a couple high-level comments in each cell explaining what your code does and code should be readable)\n"
   ]
  },
  {
   "cell_type": "markdown",
   "metadata": {},
   "source": [
    "# Setting-up a data science workspace\n",
    "\n",
    "We allow you full freedom in setting up a data science runtime.  \n",
    "The main objective is having a runtime where you can run this notebook and the code you will develop. \n",
    "You can choose for a local setup on your pc, or even a cloud setup if you're up for it.  \n",
    "Please have this notebook ready for a discussion of your code and for additional questions during our next conversation. \n",
    "\n",
    "**In your environment, you will need things for:**\n",
    " * python3\n",
    " * managing dataframes \n",
    " * ingesting JSON\n",
    "\n"
   ]
  },
  {
   "cell_type": "markdown",
   "metadata": {},
   "source": [
    "# Importing packages"
   ]
  },
  {
   "cell_type": "markdown",
   "metadata": {},
   "source": [
    "We would like you to put all your import statements here, together in 1 place.  \n",
    "Before submitting, please make sure you remove any unused imports.   "
   ]
  },
  {
   "cell_type": "code",
   "execution_count": null,
   "metadata": {},
   "outputs": [],
   "source": [
    "## your imports go here.\n",
    "\n",
    "import pandas as pd"
   ]
  },
  {
   "cell_type": "markdown",
   "metadata": {},
   "source": [
    "# Data ingestion\n",
    "\n",
    "## Load in answer data from answers.txt\n",
    "\n",
    "We've extracted data from our newest application __MYFAKESURVEYAPP__ into the file 'answers.txt'.  \n",
    "Users of this application voluntarily answer survey questions that are packaged into survey forms to tell us how they're doing at any given time e.g. user Martha may answer the survey 'Daily Living' with 3 questions every day in the morning.  \n",
    "\n",
    "Each row of the file is a json object representing a user answer to a question on a form.\n",
    "\n",
    "There may also be references to voice recordings in the answer dataset, feel free to ignore those records.\n",
    "\n",
    "Load the answers.json file into a pandas dataframe. The structure of a data record and a data dictionary of key fields are shown below.\n",
    "\n",
    "**Hint: Use the questionHid field to find the answer value in the formValues dictionary**"
   ]
  },
  {
   "cell_type": "markdown",
   "metadata": {},
   "source": [
    "```\n",
    "{\n",
    "  \"formId\": \"xxxxxxx\",                 = Identifier of the questionnaire being asked\n",
    "  \"formValues\":                        = Dictionary capturing values returned from the form\n",
    "  {\n",
    "    \"QXX\": [                           = Question label - the key (label) may change for different questions\n",
    "      \"7.8\"                            = Answer to question\n",
    "    ],\n",
    "    \"questionId\": [                    = Identifier of Question\n",
    "      \"xxxxxxx\"\n",
    "    ],\n",
    "    \"attachment\": [\n",
    "      \"\"\n",
    "    ],\n",
    "    \"questionType\": [\n",
    "      \"HTML\"\n",
    "    ],\n",
    "    \"taskId\": [                        = Identifier of Task Instance (A task is an instance of a form that a user completes)\n",
    "      \"xxxxxxx\"\n",
    "    ]\n",
    "  },\n",
    "  \"questionId\": \"xxxxxxx\",             = Identifier of Question (Same as above)\n",
    "  \"questionHid\": \"QXX\",                = Specifies the key (label) to find the answer value in formValues\n",
    "  \"created\": 1557503177316,            = When answer was submitted (answered date)\n",
    "  \"resources\": null,                   = File attachments would be shown here\n",
    "  \"id\": \"xxxxxxx\",                     = Identifier of Answer\n",
    "  \"type\": \"HTML\",\n",
    "  \"painLog\": \"\",\n",
    "  \"updated\": 1557503177316,\n",
    "  \"userId\": \"xxxxxxx\",                 = Identifier of user answering the question\n",
    "  \"taskId\": \"xxxxxxx\"                  = Identifier of Task Instance (A task is an instance of a form that a user completes - Same as above)\n",
    "}\n",
    "```"
   ]
  },
  {
   "cell_type": "code",
   "execution_count": null,
   "metadata": {},
   "outputs": [],
   "source": [
    "## your code goes here\n"
   ]
  },
  {
   "cell_type": "markdown",
   "metadata": {},
   "source": [
    "# Data Pipeline\n",
    "### Quality checks\n",
    "\n",
    "We would like you to add several checks on this data based on these constraints:  \n",
    " * Each record should be unique (i.e. appear only once in the data set). Hint: each unique record can be identified by its 'id'\n",
    " * Answers to questions PAIN1, PAIN2, PAIN3 should be numeric and are in the range of 0 - 10 OR the data is missing (NaN or None value).\n",
    "\n",
    "Filter out any records that do not meet these criteria."
   ]
  },
  {
   "cell_type": "code",
   "execution_count": null,
   "metadata": {},
   "outputs": [],
   "source": [
    "## your code goes here\n",
    "\n"
   ]
  },
  {
   "cell_type": "markdown",
   "metadata": {},
   "source": [
    "### Data Transformations\n",
    "\n",
    "Create a Data Frame with a variable PAINAVG that contains the combined average of answers to questions PAIN1, PAIN2, PAIN3 for each user for each day. \n",
    "\n",
    "e.g. for each day and patient, PAINAVG = sum of all PAIN1, PAIN2, PAIN3 answers on the day/( number of PAIN1, PAIN2, PAIN3 answers on the day)"
   ]
  },
  {
   "cell_type": "code",
   "execution_count": null,
   "metadata": {},
   "outputs": [],
   "source": [
    "## your code goes here\n",
    "\n"
   ]
  },
  {
   "cell_type": "markdown",
   "metadata": {},
   "source": [
    "Users' names are provided as answers to records with the quesitonHid NAME. Create a new Data Frame called usernames that includes a column identifying the user's name for every userId.\n"
   ]
  },
  {
   "cell_type": "code",
   "execution_count": null,
   "metadata": {},
   "outputs": [],
   "source": [
    "## your code goes here\n",
    "\n"
   ]
  },
  {
   "cell_type": "markdown",
   "metadata": {},
   "source": [
    "# Computations\n"
   ]
  },
  {
   "cell_type": "markdown",
   "metadata": {},
   "source": [
    "Using a pandas dataframe, compute the average of PAINAVG for each of the patient's NAMEs to create a table like the example shown below.  (Example numbers may not be accurate.)\n",
    "\n",
    "\n",
    "| NAME        | AVGPAINAVG  |\n",
    "| ----------- | ----------- |\n",
    "| Adam      | 4.26       |\n",
    "| Alejandro   | 5.20       |\n",
    "| Allison   | 4.79       |\n",
    "\n"
   ]
  },
  {
   "cell_type": "code",
   "execution_count": null,
   "metadata": {},
   "outputs": [],
   "source": [
    "## your code goes here\n"
   ]
  },
  {
   "cell_type": "markdown",
   "metadata": {},
   "source": [
    "Using a pandas dataframe, compute the percentage of answered questions given by non-null (or no value) answers for each of the patient's NAMEs to create a table like the example shown below.\n",
    "\n",
    "| NAME        | COMPLIANCE  |\n",
    "| ----------- | ----------- |\n",
    "| Adam      | 0.84      |\n",
    "| Alejandro   | 0.93       |\n",
    "| Allison   | 0.93       |\n",
    "\n",
    "\n",
    "What is the overall percentage of answered questions?\n"
   ]
  },
  {
   "cell_type": "code",
   "execution_count": null,
   "metadata": {},
   "outputs": [],
   "source": [
    "## your code goes here\n"
   ]
  },
  {
   "cell_type": "code",
   "execution_count": null,
   "metadata": {},
   "outputs": [],
   "source": []
  }
 ],
 "metadata": {
  "kernelspec": {
   "display_name": "Python [conda env:navitas]",
   "language": "python",
   "name": "conda-env-navitas-py"
  },
  "language_info": {
   "codemirror_mode": {
    "name": "ipython",
    "version": 3
   },
   "file_extension": ".py",
   "mimetype": "text/x-python",
   "name": "python",
   "nbconvert_exporter": "python",
   "pygments_lexer": "ipython3",
   "version": "3.7.10"
  }
 },
 "nbformat": 4,
 "nbformat_minor": 4
}
